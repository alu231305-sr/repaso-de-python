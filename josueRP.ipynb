{
  "nbformat": 4,
  "nbformat_minor": 0,
  "metadata": {
    "colab": {
      "provenance": [],
      "authorship_tag": "ABX9TyPgpXlikBvBI1+iB/zcvPWG",
      "include_colab_link": true
    },
    "kernelspec": {
      "name": "python3",
      "display_name": "Python 3"
    },
    "language_info": {
      "name": "python"
    }
  },
  "cells": [
    {
      "cell_type": "markdown",
      "metadata": {
        "id": "view-in-github",
        "colab_type": "text"
      },
      "source": [
        "<a href=\"https://colab.research.google.com/github/alu231305-sr/repaso-de-python/blob/main/josueRP.ipynb\" target=\"_parent\"><img src=\"https://colab.research.google.com/assets/colab-badge.svg\" alt=\"Open In Colab\"/></a>"
      ]
    },
    {
      "cell_type": "code",
      "execution_count": null,
      "metadata": {
        "id": "qGT6NBFC-9Zp"
      },
      "outputs": [],
      "source": []
    },
    {
      "cell_type": "markdown",
      "source": [],
      "metadata": {
        "id": "-kbG2-Y5_OR0"
      }
    },
    {
      "cell_type": "markdown",
      "source": [
        "realiza un programa que permita capturar tu nombre y la imprima seguido de una bienvenida"
      ],
      "metadata": {
        "id": "-WCX9fef_Rnq"
      }
    },
    {
      "cell_type": "code",
      "source": [
        "capturaNombre = input(\"escribe tu nombre: \")\n",
        "print(\"bienvenido!!\")\n",
        "print(\"tu nombre es:, capturanombre\")\n"
      ],
      "metadata": {
        "colab": {
          "base_uri": "https://localhost:8080/"
        },
        "id": "pWbCShXRBJ6n",
        "outputId": "2382b168-46aa-4f5c-dee7-5f410fd47597"
      },
      "execution_count": 1,
      "outputs": [
        {
          "output_type": "stream",
          "name": "stdout",
          "text": [
            "escribe tu nombre: josue rodriguez\n",
            "bienvenido!!\n",
            "tu nombre es:, capturanombre\n"
          ]
        }
      ]
    },
    {
      "cell_type": "markdown",
      "source": [
        "realizar un programa que permita dos numeros enterose imprima la suma la resta la division entre ellos"
      ],
      "metadata": {
        "id": "LRGC05mPDTQb"
      }
    },
    {
      "cell_type": "code",
      "source": [
        "num1=int(input(\"captura el 1 numero\"))\n",
        "num2=int(input(\"captura el 2 numero \"))\n",
        "suma=num1+num2\n",
        "resta=num1-num2\n",
        "multiplicacion=num1*num2\n",
        "division=num1/num2\n",
        "print(\"la suma es:\", suma)\n",
        "print(\"la resta es:\", resta)\n",
        "print(\"la multiplicacion es:\", multiplicacion)\n",
        "print(\"la division es:\", division)"
      ],
      "metadata": {
        "colab": {
          "base_uri": "https://localhost:8080/"
        },
        "id": "5j9m_nzrDd-x",
        "outputId": "3c51067a-a4a3-4aef-dde1-b2faaf66c299"
      },
      "execution_count": 2,
      "outputs": [
        {
          "output_type": "stream",
          "name": "stdout",
          "text": [
            "captura el 1 numero23\n",
            "captura el 2 numero 45\n",
            "la suma es: 68\n",
            "la resta es: -22\n",
            "la multiplicacion es: 1035\n",
            "la division es: 0.5111111111111111\n"
          ]
        }
      ]
    }
  ]
}